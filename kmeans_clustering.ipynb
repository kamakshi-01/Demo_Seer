{
  "nbformat": 4,
  "nbformat_minor": 0,
  "metadata": {
    "colab": {
      "name": "kmeans_clustering.ipynb",
      "version": "0.3.2",
      "provenance": []
    },
    "kernelspec": {
      "name": "python3",
      "display_name": "Python 3"
    },
    "accelerator": "GPU"
  },
  "cells": [
    {
      "metadata": {
        "id": "wyrXohPX8fyk",
        "colab_type": "code",
        "outputId": "d868faff-be5a-4a97-e366-b5e3c9d86d95",
        "colab": {
          "base_uri": "https://localhost:8080/",
          "height": 127
        }
      },
      "cell_type": "code",
      "source": [
        "from google.colab import drive\n",
        "drive.mount('/content/drive/')"
      ],
      "execution_count": 1,
      "outputs": [
        {
          "output_type": "stream",
          "text": [
            "Go to this URL in a browser: https://accounts.google.com/o/oauth2/auth?client_id=947318989803-6bn6qk8qdgf4n4g3pfee6491hc0brc4i.apps.googleusercontent.com&redirect_uri=urn%3Aietf%3Awg%3Aoauth%3A2.0%3Aoob&scope=email%20https%3A%2F%2Fwww.googleapis.com%2Fauth%2Fdocs.test%20https%3A%2F%2Fwww.googleapis.com%2Fauth%2Fdrive%20https%3A%2F%2Fwww.googleapis.com%2Fauth%2Fdrive.photos.readonly%20https%3A%2F%2Fwww.googleapis.com%2Fauth%2Fpeopleapi.readonly&response_type=code\n",
            "\n",
            "Enter your authorization code:\n",
            "··········\n",
            "Mounted at /content/drive/\n"
          ],
          "name": "stdout"
        }
      ]
    },
    {
      "metadata": {
        "id": "DK2XnXeD9pgp",
        "colab_type": "code",
        "outputId": "fad2fbd1-4db1-4e36-f448-98447637179c",
        "colab": {
          "base_uri": "https://localhost:8080/",
          "height": 35
        }
      },
      "cell_type": "code",
      "source": [
        "%cd \"/content/drive/My Drive/mumbai_hackathon_seer\"\n"
      ],
      "execution_count": 2,
      "outputs": [
        {
          "output_type": "stream",
          "text": [
            "/content/drive/My Drive/mumbai_hackathon_seer\n"
          ],
          "name": "stdout"
        }
      ]
    },
    {
      "metadata": {
        "id": "cmWzwe38bxpa",
        "colab_type": "code",
        "colab": {
          "base_uri": "https://localhost:8080/",
          "height": 145
        },
        "outputId": "5a401368-07d1-4ec6-9772-65d02bcb7775"
      },
      "cell_type": "code",
      "source": [
        "from keras.preprocessing import image\n",
        "from keras.applications.vgg16 import VGG16\n",
        "from keras.applications.vgg16 import preprocess_input\n",
        "import numpy as np\n",
        "from sklearn.cluster import KMeans\n",
        "import os\n",
        "\n",
        "model = VGG16(weights='imagenet', include_top=False)\n",
        "#model.summary()"
      ],
      "execution_count": 3,
      "outputs": [
        {
          "output_type": "stream",
          "text": [
            "Using TensorFlow backend.\n"
          ],
          "name": "stderr"
        },
        {
          "output_type": "stream",
          "text": [
            "WARNING:tensorflow:From /usr/local/lib/python3.6/dist-packages/tensorflow/python/framework/op_def_library.py:263: colocate_with (from tensorflow.python.framework.ops) is deprecated and will be removed in a future version.\n",
            "Instructions for updating:\n",
            "Colocations handled automatically by placer.\n",
            "Downloading data from https://github.com/fchollet/deep-learning-models/releases/download/v0.1/vgg16_weights_tf_dim_ordering_tf_kernels_notop.h5\n",
            "58892288/58889256 [==============================] - 1s 0us/step\n"
          ],
          "name": "stdout"
        }
      ]
    },
    {
      "metadata": {
        "id": "vltiWr_0dHdz",
        "colab_type": "code",
        "outputId": "73275917-9a34-4355-fac4-466fccc3cfcf",
        "colab": {
          "base_uri": "https://localhost:8080/",
          "height": 71
        }
      },
      "cell_type": "code",
      "source": [
        "vgg16_feature_list = []\n",
        "subdir = \"images_mens_shirts_segmented/\"\n",
        "#for idx, dirname in enumerate(subdir):\n",
        "filenames = os.listdir(subdir)\n",
        "\n",
        "for i, fname in enumerate(filenames):\n",
        "\n",
        "    #img = image.load_img(img_path, target_size=(224, 224))\n",
        "    img = image.load_img(subdir+fname, target_size=(224, 224))\n",
        "    \n",
        "    img_data = image.img_to_array(img)\n",
        "    img_data = np.expand_dims(img_data, axis=0)\n",
        "    img_data = preprocess_input(img_data)\n",
        "\n",
        "    vgg16_feature = model.predict(img_data)\n",
        "    vgg16_feature_np = np.array(vgg16_feature).flatten()\n",
        "    vgg16_feature_list.append(vgg16_feature_np)\n",
        "        \n",
        "vgg16_feature_list_np = np.array(vgg16_feature_list)\n",
        "kmeans = KMeans(n_clusters=40, random_state=0).fit(vgg16_feature_list_np)\n",
        "print(kmeans)\n",
        "\n",
        "from sklearn.externals import joblib\n",
        "filename = 'kmeans_model.pb'\n",
        "joblib.dump(kmeans, filename)\n",
        "\n",
        "predictions = kmeans.predict(vgg16_feature_list_np)\n",
        "np.save('predictions.npy',predictions)"
      ],
      "execution_count": 21,
      "outputs": [
        {
          "output_type": "stream",
          "text": [
            "KMeans(algorithm='auto', copy_x=True, init='k-means++', max_iter=300,\n",
            "    n_clusters=40, n_init=10, n_jobs=None, precompute_distances='auto',\n",
            "    random_state=0, tol=0.0001, verbose=0)\n"
          ],
          "name": "stdout"
        }
      ]
    },
    {
      "metadata": {
        "id": "1sSxZgY77nJr",
        "colab_type": "code",
        "colab": {}
      },
      "cell_type": "code",
      "source": [
        "a = np.load('predictions.npy')\n",
        "subdir = \"images_mens_shirts_segmented/\"\n",
        "filenames = os.listdir(subdir)\n",
        "d = dict()\n",
        "for i, a_item in enumerate(a):\n",
        "  if a_item not in d: \n",
        "    d[a_item] = []\n",
        "  d[a_item].append(filenames[i])\n",
        "for d_key in d:\n",
        "  print(str(d_key) + ':' + str(d[d_key]))"
      ],
      "execution_count": 0,
      "outputs": []
    },
    {
      "metadata": {
        "id": "s8npan_8A0Oo",
        "colab_type": "code",
        "colab": {
          "base_uri": "https://localhost:8080/",
          "height": 179
        },
        "outputId": "b94b1a19-e288-4f4b-8ef6-9829882aad9f"
      },
      "cell_type": "code",
      "source": [
        "loaded_model = joblib.load(filename)\n",
        "result = loaded_model.predict(vgg16_feature_list_np)\n",
        "print(result)"
      ],
      "execution_count": 22,
      "outputs": [
        {
          "output_type": "stream",
          "text": [
            "[17 21  2 24 24 27  1 32  8 24 36 30 17 11 24 11  2 24 29 29 20 29 14 11\n",
            " 24 24 11  2  5 14 24  1 37  2 14 22 22 30 30  7 11 27 29  2 38  4  1 15\n",
            "  6  8 22  7 32 30 27 14  7 24 15 37 24 15 24  2  2 29  1 29 16  1  2 11\n",
            " 39 14 29  1  7 33  2 24  1 28 29  5 11 30 19 23 10 11  8 14  8  2 30 11\n",
            "  1  4 13  1 30  8 14  2 17 17  4 17 25  2  1  1  2 35 27  2 21 13  2  2\n",
            "  2  3 24 14 29 14  3 24 18  1  2 13  8 26  2  1  5 24  2 22  2  2  2  1\n",
            " 24  8 12  2  2 14 15  2  7  7  7  7 10  7  2  2 13  2  2  2  1  1  2  8\n",
            " 14 34  2 14  7 37  0  2  2  2 34  2 24  2  2  2 11  2  7 30 34 14 15 37\n",
            "  2  2  2 31 14  2  9  2  9 19  2  1  2 25  8 20 23 14  2  2 38  7 38]\n"
          ],
          "name": "stdout"
        }
      ]
    }
  ]
}