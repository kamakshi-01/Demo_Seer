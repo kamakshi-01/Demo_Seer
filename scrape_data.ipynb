{
  "nbformat": 4,
  "nbformat_minor": 0,
  "metadata": {
    "colab": {
      "name": "Copy of scrape data 2.ipynb",
      "version": "0.3.2",
      "provenance": [],
      "collapsed_sections": []
    },
    "kernelspec": {
      "name": "python3",
      "display_name": "Python 3"
    },
    "accelerator": "GPU"
  },
  "cells": [
    {
      "metadata": {
        "id": "GRvAN7geRjHm",
        "colab_type": "code",
        "outputId": "729ca0f7-46f4-4060-fa07-7d11a174604b",
        "colab": {
          "base_uri": "https://localhost:8080/",
          "height": 53
        }
      },
      "cell_type": "code",
      "source": [
        "!pwd\n",
        "!ls"
      ],
      "execution_count": 7,
      "outputs": [
        {
          "output_type": "stream",
          "text": [
            "/content\n",
            "drive  sample_data\n"
          ],
          "name": "stdout"
        }
      ]
    },
    {
      "metadata": {
        "id": "t9F6Q3oxRuR6",
        "colab_type": "code",
        "colab": {
          "base_uri": "https://localhost:8080/",
          "height": 127
        },
        "outputId": "03b0ac41-c066-4c8a-86f7-a86b04e98b4d"
      },
      "cell_type": "code",
      "source": [
        "from google.colab import drive\n",
        "drive.mount('/content/drive')"
      ],
      "execution_count": 2,
      "outputs": [
        {
          "output_type": "stream",
          "text": [
            "Go to this URL in a browser: https://accounts.google.com/o/oauth2/auth?client_id=947318989803-6bn6qk8qdgf4n4g3pfee6491hc0brc4i.apps.googleusercontent.com&redirect_uri=urn%3Aietf%3Awg%3Aoauth%3A2.0%3Aoob&scope=email%20https%3A%2F%2Fwww.googleapis.com%2Fauth%2Fdocs.test%20https%3A%2F%2Fwww.googleapis.com%2Fauth%2Fdrive%20https%3A%2F%2Fwww.googleapis.com%2Fauth%2Fdrive.photos.readonly%20https%3A%2F%2Fwww.googleapis.com%2Fauth%2Fpeopleapi.readonly&response_type=code\n",
            "\n",
            "Enter your authorization code:\n",
            "··········\n",
            "Mounted at /content/drive\n"
          ],
          "name": "stdout"
        }
      ]
    },
    {
      "metadata": {
        "id": "hLS4Hlw3Rvxe",
        "colab_type": "code",
        "colab": {
          "base_uri": "https://localhost:8080/",
          "height": 35
        },
        "outputId": "c9d10d04-46a4-47fb-8153-f89314d301c4"
      },
      "cell_type": "code",
      "source": [
        "#change-this-line\n",
        "%cd /content/drive/'My Drive'/mumbai_hackathon_seer"
      ],
      "execution_count": 8,
      "outputs": [
        {
          "output_type": "stream",
          "text": [
            "/content/drive/My Drive/mumbai_hackathon_seer\n"
          ],
          "name": "stdout"
        }
      ]
    },
    {
      "metadata": {
        "id": "p2odB0EkRxnj",
        "colab_type": "code",
        "colab": {
          "base_uri": "https://localhost:8080/",
          "height": 145
        },
        "outputId": "2a0ab6ee-74f5-4f73-d598-0ca451f51eba"
      },
      "cell_type": "code",
      "source": [
        "!pip install selenium"
      ],
      "execution_count": 3,
      "outputs": [
        {
          "output_type": "stream",
          "text": [
            "Collecting selenium\n",
            "\u001b[?25l  Downloading https://files.pythonhosted.org/packages/80/d6/4294f0b4bce4de0abf13e17190289f9d0613b0a44e5dd6a7f5ca98459853/selenium-3.141.0-py2.py3-none-any.whl (904kB)\n",
            "\r\u001b[K    1% |▍                               | 10kB 12.7MB/s eta 0:00:01\r\u001b[K    2% |▊                               | 20kB 1.8MB/s eta 0:00:01\r\u001b[K    3% |█                               | 30kB 2.6MB/s eta 0:00:01\r\u001b[K    4% |█▌                              | 40kB 1.7MB/s eta 0:00:01\r\u001b[K    5% |█▉                              | 51kB 2.1MB/s eta 0:00:01\r\u001b[K    6% |██▏                             | 61kB 2.5MB/s eta 0:00:01\r\u001b[K    7% |██▌                             | 71kB 2.9MB/s eta 0:00:01\r\u001b[K    9% |███                             | 81kB 3.3MB/s eta 0:00:01\r\u001b[K    10% |███▎                            | 92kB 3.7MB/s eta 0:00:01\r\u001b[K    11% |███▋                            | 102kB 2.8MB/s eta 0:00:01\r\u001b[K    12% |████                            | 112kB 2.8MB/s eta 0:00:01\r\u001b[K    13% |████▍                           | 122kB 4.0MB/s eta 0:00:01\r\u001b[K    14% |████▊                           | 133kB 4.0MB/s eta 0:00:01\r\u001b[K    15% |█████                           | 143kB 7.4MB/s eta 0:00:01\r\u001b[K    16% |█████▍                          | 153kB 7.4MB/s eta 0:00:01\r\u001b[K    18% |█████▉                          | 163kB 7.4MB/s eta 0:00:01\r\u001b[K    19% |██████▏                         | 174kB 7.4MB/s eta 0:00:01\r\u001b[K    20% |██████▌                         | 184kB 7.5MB/s eta 0:00:01\r\u001b[K    21% |██████▉                         | 194kB 6.7MB/s eta 0:00:01\r\u001b[K    22% |███████▎                        | 204kB 8.1MB/s eta 0:00:01\r\u001b[K    23% |███████▋                        | 215kB 8.1MB/s eta 0:00:01\r\u001b[K    24% |████████                        | 225kB 8.1MB/s eta 0:00:01\r\u001b[K    26% |████████▎                       | 235kB 8.2MB/s eta 0:00:01\r\u001b[K    27% |████████▊                       | 245kB 8.2MB/s eta 0:00:01\r\u001b[K    28% |█████████                       | 256kB 8.3MB/s eta 0:00:01\r\u001b[K    29% |█████████▍                      | 266kB 8.2MB/s eta 0:00:01\r\u001b[K    30% |█████████▉                      | 276kB 8.3MB/s eta 0:00:01\r\u001b[K    31% |██████████▏                     | 286kB 8.3MB/s eta 0:00:01\r\u001b[K    32% |██████████▌                     | 296kB 9.4MB/s eta 0:00:01\r\u001b[K    33% |██████████▉                     | 307kB 52.8MB/s eta 0:00:01\r\u001b[K    35% |███████████▎                    | 317kB 56.9MB/s eta 0:00:01\r\u001b[K    36% |███████████▋                    | 327kB 57.2MB/s eta 0:00:01\r\u001b[K    37% |████████████                    | 337kB 61.3MB/s eta 0:00:01\r\u001b[K    38% |████████████▎                   | 348kB 55.4MB/s eta 0:00:01\r\u001b[K    39% |████████████▊                   | 358kB 55.3MB/s eta 0:00:01\r\u001b[K    40% |█████████████                   | 368kB 59.3MB/s eta 0:00:01\r\u001b[K    41% |█████████████▍                  | 378kB 58.2MB/s eta 0:00:01\r\u001b[K    43% |█████████████▊                  | 389kB 59.3MB/s eta 0:00:01\r\u001b[K    44% |██████████████▏                 | 399kB 9.9MB/s eta 0:00:01\r\u001b[K    45% |██████████████▌                 | 409kB 9.9MB/s eta 0:00:01\r\u001b[K    46% |██████████████▉                 | 419kB 9.9MB/s eta 0:00:01\r\u001b[K    47% |███████████████▏                | 430kB 9.8MB/s eta 0:00:01\r\u001b[K    48% |███████████████▋                | 440kB 9.7MB/s eta 0:00:01\r\u001b[K    49% |████████████████                | 450kB 9.7MB/s eta 0:00:01\r\u001b[K    50% |████████████████▎               | 460kB 9.6MB/s eta 0:00:01\r\u001b[K    52% |████████████████▋               | 471kB 9.6MB/s eta 0:00:01\r\u001b[K    53% |█████████████████               | 481kB 9.5MB/s eta 0:00:01\r\u001b[K    54% |█████████████████▍              | 491kB 9.4MB/s eta 0:00:01\r\u001b[K    55% |█████████████████▊              | 501kB 43.6MB/s eta 0:00:01\r\u001b[K    56% |██████████████████▏             | 512kB 38.5MB/s eta 0:00:01\r\u001b[K    57% |██████████████████▌             | 522kB 38.0MB/s eta 0:00:01\r\u001b[K    58% |██████████████████▉             | 532kB 39.5MB/s eta 0:00:01\r\u001b[K    59% |███████████████████▏            | 542kB 40.4MB/s eta 0:00:01\r\u001b[K    61% |███████████████████▋            | 552kB 46.1MB/s eta 0:00:01\r\u001b[K    62% |████████████████████            | 563kB 46.7MB/s eta 0:00:01\r\u001b[K    63% |████████████████████▎           | 573kB 46.6MB/s eta 0:00:01\r\u001b[K    64% |████████████████████▋           | 583kB 51.9MB/s eta 0:00:01\r\u001b[K    65% |█████████████████████           | 593kB 53.4MB/s eta 0:00:01\r\u001b[K    66% |█████████████████████▍          | 604kB 53.8MB/s eta 0:00:01\r\u001b[K    67% |█████████████████████▊          | 614kB 67.9MB/s eta 0:00:01\r\u001b[K    69% |██████████████████████          | 624kB 10.9MB/s eta 0:00:01\r\u001b[K    70% |██████████████████████▌         | 634kB 10.9MB/s eta 0:00:01\r\u001b[K    71% |██████████████████████▉         | 645kB 10.9MB/s eta 0:00:01\r\u001b[K    72% |███████████████████████▏        | 655kB 10.9MB/s eta 0:00:01\r\u001b[K    73% |███████████████████████▌        | 665kB 10.6MB/s eta 0:00:01\r\u001b[K    74% |████████████████████████        | 675kB 10.5MB/s eta 0:00:01\r\u001b[K    75% |████████████████████████▎       | 686kB 10.5MB/s eta 0:00:01\r\u001b[K    76% |████████████████████████▋       | 696kB 10.4MB/s eta 0:00:01\r\u001b[K    78% |█████████████████████████       | 706kB 10.0MB/s eta 0:00:01\r\u001b[K    79% |█████████████████████████▍      | 716kB 9.9MB/s eta 0:00:01\r\u001b[K    80% |█████████████████████████▊      | 727kB 41.7MB/s eta 0:00:01\r\u001b[K    81% |██████████████████████████      | 737kB 41.8MB/s eta 0:00:01\r\u001b[K    82% |██████████████████████████▍     | 747kB 42.3MB/s eta 0:00:01\r\u001b[K    83% |██████████████████████████▉     | 757kB 42.5MB/s eta 0:00:01\r\u001b[K    84% |███████████████████████████▏    | 768kB 46.4MB/s eta 0:00:01\r\u001b[K    86% |███████████████████████████▌    | 778kB 49.3MB/s eta 0:00:01\r\u001b[K    87% |████████████████████████████    | 788kB 49.1MB/s eta 0:00:01\r\u001b[K    88% |████████████████████████████▎   | 798kB 52.4MB/s eta 0:00:01\r\u001b[K    89% |████████████████████████████▋   | 808kB 65.0MB/s eta 0:00:01\r\u001b[K    90% |█████████████████████████████   | 819kB 68.3MB/s eta 0:00:01\r\u001b[K    91% |█████████████████████████████▍  | 829kB 69.3MB/s eta 0:00:01\r\u001b[K    92% |█████████████████████████████▊  | 839kB 69.0MB/s eta 0:00:01\r\u001b[K    93% |██████████████████████████████  | 849kB 67.2MB/s eta 0:00:01\r\u001b[K    95% |██████████████████████████████▍ | 860kB 56.0MB/s eta 0:00:01\r\u001b[K    96% |██████████████████████████████▉ | 870kB 55.5MB/s eta 0:00:01\r\u001b[K    97% |███████████████████████████████▏| 880kB 55.9MB/s eta 0:00:01\r\u001b[K    98% |███████████████████████████████▌| 890kB 55.5MB/s eta 0:00:01\r\u001b[K    99% |███████████████████████████████▉| 901kB 54.8MB/s eta 0:00:01\r\u001b[K    100% |████████████████████████████████| 911kB 20.5MB/s \n",
            "\u001b[?25hRequirement already satisfied: urllib3 in /usr/local/lib/python3.6/dist-packages (from selenium) (1.22)\n",
            "Installing collected packages: selenium\n",
            "Successfully installed selenium-3.141.0\n"
          ],
          "name": "stdout"
        }
      ]
    },
    {
      "metadata": {
        "id": "BOwOZN88WSJL",
        "colab_type": "code",
        "colab": {
          "base_uri": "https://localhost:8080/",
          "height": 829
        },
        "outputId": "a88fd504-976d-48d7-e602-9f00a2a51d20"
      },
      "cell_type": "code",
      "source": [
        "!apt install chromium-chromedriver\n",
        "!cp /usr/lib/chromium-browser/chromedriver /usr/bin\n",
        "import sys\n",
        "sys.path.insert(0,'/usr/lib/chromium-browser/chromedriver')"
      ],
      "execution_count": 4,
      "outputs": [
        {
          "output_type": "stream",
          "text": [
            "Reading package lists... Done\n",
            "Building dependency tree       \n",
            "Reading state information... Done\n",
            "The following package was automatically installed and is no longer required:\n",
            "  libnvidia-common-410\n",
            "Use 'apt autoremove' to remove it.\n",
            "The following additional packages will be installed:\n",
            "  chromium-browser chromium-browser-l10n chromium-codecs-ffmpeg-extra\n",
            "Suggested packages:\n",
            "  webaccounts-chromium-extension unity-chromium-extension adobe-flashplugin\n",
            "The following NEW packages will be installed:\n",
            "  chromium-browser chromium-browser-l10n chromium-chromedriver\n",
            "  chromium-codecs-ffmpeg-extra\n",
            "0 upgraded, 4 newly installed, 0 to remove and 10 not upgraded.\n",
            "Need to get 66.2 MB of archives.\n",
            "After this operation, 244 MB of additional disk space will be used.\n",
            "Get:1 http://archive.ubuntu.com/ubuntu bionic-updates/universe amd64 chromium-codecs-ffmpeg-extra amd64 72.0.3626.121-0ubuntu0.18.04.1 [1,106 kB]\n",
            "Get:2 http://archive.ubuntu.com/ubuntu bionic-updates/universe amd64 chromium-browser amd64 72.0.3626.121-0ubuntu0.18.04.1 [58.0 MB]\n",
            "Get:3 http://archive.ubuntu.com/ubuntu bionic-updates/universe amd64 chromium-browser-l10n all 72.0.3626.121-0ubuntu0.18.04.1 [2,769 kB]\n",
            "Get:4 http://archive.ubuntu.com/ubuntu bionic-updates/universe amd64 chromium-chromedriver amd64 72.0.3626.121-0ubuntu0.18.04.1 [4,311 kB]\n",
            "Fetched 66.2 MB in 3s (20.5 MB/s)\n",
            "Selecting previously unselected package chromium-codecs-ffmpeg-extra.\n",
            "(Reading database ... 131323 files and directories currently installed.)\n",
            "Preparing to unpack .../chromium-codecs-ffmpeg-extra_72.0.3626.121-0ubuntu0.18.04.1_amd64.deb ...\n",
            "Unpacking chromium-codecs-ffmpeg-extra (72.0.3626.121-0ubuntu0.18.04.1) ...\n",
            "Selecting previously unselected package chromium-browser.\n",
            "Preparing to unpack .../chromium-browser_72.0.3626.121-0ubuntu0.18.04.1_amd64.deb ...\n",
            "Unpacking chromium-browser (72.0.3626.121-0ubuntu0.18.04.1) ...\n",
            "Selecting previously unselected package chromium-browser-l10n.\n",
            "Preparing to unpack .../chromium-browser-l10n_72.0.3626.121-0ubuntu0.18.04.1_all.deb ...\n",
            "Unpacking chromium-browser-l10n (72.0.3626.121-0ubuntu0.18.04.1) ...\n",
            "Selecting previously unselected package chromium-chromedriver.\n",
            "Preparing to unpack .../chromium-chromedriver_72.0.3626.121-0ubuntu0.18.04.1_amd64.deb ...\n",
            "Unpacking chromium-chromedriver (72.0.3626.121-0ubuntu0.18.04.1) ...\n",
            "Processing triggers for mime-support (3.60ubuntu1) ...\n",
            "Setting up chromium-codecs-ffmpeg-extra (72.0.3626.121-0ubuntu0.18.04.1) ...\n",
            "Processing triggers for man-db (2.8.3-2ubuntu0.1) ...\n",
            "Processing triggers for hicolor-icon-theme (0.17-2) ...\n",
            "Setting up chromium-browser (72.0.3626.121-0ubuntu0.18.04.1) ...\n",
            "update-alternatives: using /usr/bin/chromium-browser to provide /usr/bin/x-www-browser (x-www-browser) in auto mode\n",
            "update-alternatives: using /usr/bin/chromium-browser to provide /usr/bin/gnome-www-browser (gnome-www-browser) in auto mode\n",
            "Setting up chromium-chromedriver (72.0.3626.121-0ubuntu0.18.04.1) ...\n",
            "Setting up chromium-browser-l10n (72.0.3626.121-0ubuntu0.18.04.1) ...\n",
            "cp: cannot stat '/usr/lib/chromium-browser/chromedriver': No such file or directory\n"
          ],
          "name": "stdout"
        }
      ]
    },
    {
      "metadata": {
        "id": "8ODT3UXjc0q_",
        "colab_type": "code",
        "colab": {}
      },
      "cell_type": "code",
      "source": [
        "from bs4 import BeautifulSoup\n",
        "import urllib\n",
        "\n",
        "url = \"https://developers.whatismybrowser.com/useragents/explore/software_name/chrome/\"\n",
        "content = urllib.request.urlopen(url).read()\n",
        "soup = BeautifulSoup(content)\n",
        "\n",
        "links = soup.find_all('a', href=True)[16:]\n",
        "agents = []\n",
        "for link in links:\n",
        "  agents.append(link.text)"
      ],
      "execution_count": 0,
      "outputs": []
    },
    {
      "metadata": {
        "id": "PNdAo5UoSi-X",
        "colab_type": "code",
        "colab": {}
      },
      "cell_type": "code",
      "source": [
        "def init_some_files():\n",
        "  import numpy as np\n",
        "  s = np.array([0,0])\n",
        "  np.save('start.npy', s)\n",
        "\n",
        "  #count = np.array([0])\n",
        "  #np.save('count.npy', count)\n",
        "\n",
        "  print(np.load('start.npy'))\n",
        "  #change-this the link should be for womens shirt sabse pehla page\n",
        "  open('url.txt', 'w').write(\"https://www.amazon.in/gp/search/ref=sr_pg_6?rh=n%3A1571271031%2Cn%3A%211571272031%2Cn%3A1968024031%2Cn%3A1968093031&page=6&ie=UTF8&qid=1552767690\")\n",
        "  open('url.txt').read()"
      ],
      "execution_count": 0,
      "outputs": []
    },
    {
      "metadata": {
        "id": "Lk2cxf8jSjzQ",
        "colab_type": "code",
        "colab": {}
      },
      "cell_type": "code",
      "source": [
        "#change-this uncomment below line when running for the very first time\n",
        "#init_some_files()"
      ],
      "execution_count": 0,
      "outputs": []
    },
    {
      "metadata": {
        "id": "9nQKKl0MxJB7",
        "colab_type": "code",
        "colab": {}
      },
      "cell_type": "code",
      "source": [
        "def my_find_element_by_id(wd, ids, isArray = False):\n",
        "  if isArray is False: ids = [ids]\n",
        "  element = None\n",
        "  e1 = None\n",
        "  for id in ids:\n",
        "    counter = 0\n",
        "    while counter < 30:\n",
        "      try: \n",
        "        element = wd.find_element_by_id(id)\n",
        "        break\n",
        "      except Exception as e:\n",
        "        e1 = e\n",
        "        time.sleep(1)\n",
        "        counter += 1\n",
        "        continue\n",
        "  if element is None:\n",
        "    print(e1)\n",
        "    print(\"captcha\" in str(wd.page_source))\n",
        "    print('Grave danger!!')\n",
        "  return element"
      ],
      "execution_count": 0,
      "outputs": []
    },
    {
      "metadata": {
        "id": "N_kwSiR0WrFE",
        "colab_type": "code",
        "colab": {}
      },
      "cell_type": "code",
      "source": [
        "import random\n",
        "import time\n",
        "from selenium import webdriver\n",
        "import pandas as pd\n",
        "from PIL import Image\n",
        "import urllib\n",
        "import csv\n",
        "\n",
        "def getUrlData(product_url, count):\n",
        "  df = pd.DataFrame(columns = ['title', 'url', 'price', 'image_url', 'image_name', 'gender', 'dress_type'])\n",
        "  chrome_options = webdriver.ChromeOptions()\n",
        "  chrome_options.add_argument('--headless')\n",
        "  chrome_options.add_argument('--no-sandbox')\n",
        "  chrome_options.add_argument('--disable-dev-shm-usage')\n",
        "  #chrome_options.add_argument('user-agent='+str(agents[random.randrange(len(agents))]))\n",
        "  \n",
        "  wd = webdriver.Chrome('chromedriver',chrome_options=chrome_options)\n",
        "  #frame = wd.find_element_by_xpath(\"//frame[@name='main']\")\n",
        "  #wd.switch_to.frame(frame)\n",
        "  wd.get(product_url)\n",
        "  try:\n",
        "   \n",
        "    #print(wd.page_source)\n",
        "    if True:\n",
        "      #product_title\n",
        "      #element = wd.find_element_by_id('productTitle')\n",
        "      element = my_find_element_by_id(wd, 'productTitle')\n",
        "      product_title = element.text\n",
        "      print('Product title is:'+str(product_title))\n",
        "\n",
        "      #element = wd.find_element_by_id('priceblock_ourprice')\n",
        "      element = my_find_element_by_id(wd, ['priceblock_ourprice', 'priceblock_saleprice'], True)\n",
        "      product_price = element.text.split()[0]\n",
        "\n",
        "      #image_url and image_name\n",
        "      #element = wd.find_element_by_id('landingImage')\n",
        "      element = my_find_element_by_id(wd, 'landingImage')\n",
        "      image_url = element.get_attribute(\"src\") \n",
        "      img = Image.open(urllib.request.urlopen(image_url))\n",
        "      image_name = str(count) + '.jpg'\n",
        "      #change-this-line\n",
        "      img.save('images_mens_shirts/' + image_name)\n",
        "\n",
        "      #gender and dress_type\n",
        "      #element = wd.find_element_by_id('wayfinding-breadcrumbs_feature_div')\n",
        "      element = my_find_element_by_id(wd, 'wayfinding-breadcrumbs_feature_div')\n",
        "      breadcrumbs = element.text\n",
        "      breadcrumbs = breadcrumbs.splitlines()\n",
        "      gender = breadcrumbs[2].lower()\n",
        "      dress_type = breadcrumbs[4].lower()\n",
        "    \n",
        "    raw_data = [product_title, product_url, product_price, image_url, image_name, gender, dress_type]\n",
        "\n",
        "    #change-this-line\n",
        "    with open('example_mens_shirts.csv','a') as fd:\n",
        "      writer = csv.writer(fd, delimiter=',')\n",
        "      writer.writerow(raw_data)\n",
        "  except Exception as e:\n",
        "    print(e)\n",
        "    return e\n",
        "  #print('All DONE!')\n",
        "  return \"success\""
      ],
      "execution_count": 0,
      "outputs": []
    },
    {
      "metadata": {
        "id": "K-GcAXk7RWtH",
        "colab_type": "code",
        "outputId": "9661a2a1-c5f5-459f-f14c-7ec658a58b8a",
        "colab": {
          "base_uri": "https://localhost:8080/",
          "height": 441
        }
      },
      "cell_type": "code",
      "source": [
        "import time\n",
        "import numpy as np\n",
        "from selenium.webdriver.common.by import By\n",
        "from selenium.webdriver.support.ui import WebDriverWait\n",
        "from selenium.webdriver.support import expected_conditions as EC\n",
        "\n",
        "#url = \"https://www.amazon.in/gp/product/B0711512BW/ref=s9_acsd_simh_hd_bw_b29Butz_c_x_w?pf_rd_m=A1K21FY43GMZF8&pf_rd_s=merchandised-search-11&pf_rd_r=BR4MYFX4YHB22XF19E3B&pf_rd_t=101&pf_rd_p=53ad12a4-a073-57e4-8256-b5ac54c4c1c1&pf_rd_i=1968093031\"\n",
        "#url2 = 'https://www.amazon.in/s/ref=sr_pg_1?sf=qz%2Crba&rh=i%3Aaps%2Ck%3Amens+shirt&keywords=mens+shirt&ie=UTF8&qid=1552761683'\n",
        "url2 = open('url.txt', 'r').read()\n",
        "urls = []\n",
        "product_urls = []\n",
        "#count=np.load('count.npy')[0]\n",
        "count_fails = 0\n",
        "start_i, start_j = np.load('start.npy')\n",
        "chrome_options = webdriver.ChromeOptions()\n",
        "chrome_options.add_argument('--headless')\n",
        "chrome_options.add_argument('--no-sandbox')\n",
        "chrome_options.add_argument('--disable-dev-shm-usage')\n",
        "#chrome_options.add_argument('user-agent='+str(agents[random.randrange(len(agents))]))\n",
        "wd_for_search_results = webdriver.Chrome('chromedriver',chrome_options=chrome_options)\n",
        "i = start_i\n",
        "#j = start_j\n",
        "flag=False\n",
        "while i < 200:\n",
        "  print('\\ni: '+str(i))\n",
        "  print('url2 is: '+str(url2))\n",
        "  wd_for_search_results.get(url2)\n",
        "  time.sleep(0.6)\n",
        "  ids = wd_for_search_results.find_elements_by_xpath('.//*[@id]')\n",
        "  #print('printing all ids')\n",
        "  #for ii in ids:\n",
        "    #print('hello')\n",
        "    #print(ii.get_attribute('id'))    # id name as string\n",
        "  #print('all ids printing done')\n",
        "  #myElem = WebDriverWait(wd_for_search_results, 10).until(EC.presence_of_element_located((By.ID, 's-result-count')))\n",
        "\n",
        "  limits = my_find_element_by_id(wd_for_search_results, 's-result-count')\n",
        "  #try:\n",
        "  #  limits = wd_for_search_results.find_element_by_id('s-result-count')\n",
        "  #except:\n",
        "  #  time.sleep(2)\n",
        "  #  print(wd_for_search_results.page_source)\n",
        "  #  limits = wd_for_search_results.find_element_by_id('s-result-count')\n",
        "  limits = limits.text\n",
        "  #limits = wd_for_search_results.find_element_by_xpath('.//*[@id=\"s-result-count\"]').text\n",
        "  limit1, limit2 = limits.split(' ')[0].split('-')\n",
        "  limit1, limit2 = int(limit1)-1, int(limit2)\n",
        "  if start_j > limit1: limit1 = start_j \n",
        "  for j in range(limit1, limit2):\n",
        "    print('j: '+str(j))\n",
        "    try:\n",
        "      #time.sleep(1)\n",
        "      #time_pass_statement = None\n",
        "      result = my_find_element_by_id(wd_for_search_results ,'result_'+str(j))\n",
        "      #try:\n",
        "      #  result = wd_for_search_results.find_element_by_id('result_'+str(j))\n",
        "      #except:\n",
        "      #  time.sleep(1)\n",
        "      #  result = wd_for_search_results.find_element_by_id('result_'+str(j))\n",
        "      all_children_by_xpath = result.find_elements_by_xpath(\".//a[1]\")[0]\n",
        "\n",
        "      #debug_ = first_child = all_children_by_xpath[0]\n",
        "      #debug_ = grand_child = first_child.find_elements_by_xpath(\"./*\")[5]\n",
        "      #debug_ = grand_child2 = grand_child.find_elements_by_xpath(\"./*\")[0]\n",
        "      #debug_ = grand_child3 = grand_child2.find_elements_by_xpath(\"./*\")[0]\n",
        "      grand_child3 = all_children_by_xpath\n",
        "      print('Link: ' + str(grand_child3.get_attribute('href')))\n",
        "      status = getUrlData(grand_child3.get_attribute('href'), j)\n",
        "      if status != \"success\":\n",
        "        print(\"failed\")\n",
        "        count_fails += 1\n",
        "      else:\n",
        "        print(\"geturl was successful\")\n",
        "      #count+=1\n",
        "      #np.save('count.npy', np.array([count]))\n",
        "      product_urls.append(grand_child3.get_attribute('href'))\n",
        "     \n",
        "    except Exception as e:\n",
        "      #print(debug_.get_attribute('innerHTML'))\n",
        "      print(e)\n",
        "      #np.save('start.npy', np.array([i, j]))\n",
        "      flag = True\n",
        "      break #Remove this\n",
        "    #j += 1\n",
        "    np.save('start.npy', np.array([i, j]))          \n",
        "  i += 1\n",
        "  np.save('start.npy', np.array([i, j]))            \n",
        "  if flag:\n",
        "    break\n",
        "    \n",
        "  next_page_element = wd_for_search_results.find_element_by_id('pagnNextLink')\n",
        "  url2 = str(next_page_element.get_attribute('href'))\n",
        "  open('url.txt', 'w').write(url2)            \n",
        "  \n",
        "product_urls = np.array(product_urls)\n",
        "np.save('product_urls.npy', product_urls)\n",
        "print(\"failed these many times: \")\n",
        "print(count_fails)"
      ],
      "execution_count": 27,
      "outputs": [
        {
          "output_type": "stream",
          "text": [
            "/usr/local/lib/python3.6/dist-packages/ipykernel_launcher.py:20: DeprecationWarning: use options instead of chrome_options\n"
          ],
          "name": "stderr"
        },
        {
          "output_type": "stream",
          "text": [
            "\n",
            "i: 9\n",
            "url2 is: https://www.amazon.in/s/ref=sr_pg_8?rh=n%3A1571271031%2Cn%3A%211571272031%2Cn%3A1968024031%2Cn%3A1968093031&page=8&ie=UTF8&qid=1552771379\n",
            "Message: no such element: Unable to locate element: {\"method\":\"id\",\"selector\":\"s-result-count\"}\n",
            "  (Session info: headless chrome=72.0.3626.121)\n",
            "  (Driver info: chromedriver=72.0.3626.121,platform=Linux 4.14.79+ x86_64)\n",
            "\n",
            "True\n",
            "Grave danger!!\n"
          ],
          "name": "stdout"
        },
        {
          "output_type": "error",
          "ename": "AttributeError",
          "evalue": "ignored",
          "traceback": [
            "\u001b[0;31m---------------------------------------------------------------------------\u001b[0m",
            "\u001b[0;31mAttributeError\u001b[0m                            Traceback (most recent call last)",
            "\u001b[0;32m<ipython-input-27-aca7767c9c7a>\u001b[0m in \u001b[0;36m<module>\u001b[0;34m()\u001b[0m\n\u001b[1;32m     42\u001b[0m   \u001b[0;31m#  print(wd_for_search_results.page_source)\u001b[0m\u001b[0;34m\u001b[0m\u001b[0;34m\u001b[0m\u001b[0;34m\u001b[0m\u001b[0m\n\u001b[1;32m     43\u001b[0m   \u001b[0;31m#  limits = wd_for_search_results.find_element_by_id('s-result-count')\u001b[0m\u001b[0;34m\u001b[0m\u001b[0;34m\u001b[0m\u001b[0;34m\u001b[0m\u001b[0m\n\u001b[0;32m---> 44\u001b[0;31m   \u001b[0mlimits\u001b[0m \u001b[0;34m=\u001b[0m \u001b[0mlimits\u001b[0m\u001b[0;34m.\u001b[0m\u001b[0mtext\u001b[0m\u001b[0;34m\u001b[0m\u001b[0;34m\u001b[0m\u001b[0m\n\u001b[0m\u001b[1;32m     45\u001b[0m   \u001b[0;31m#limits = wd_for_search_results.find_element_by_xpath('.//*[@id=\"s-result-count\"]').text\u001b[0m\u001b[0;34m\u001b[0m\u001b[0;34m\u001b[0m\u001b[0;34m\u001b[0m\u001b[0m\n\u001b[1;32m     46\u001b[0m   \u001b[0mlimit1\u001b[0m\u001b[0;34m,\u001b[0m \u001b[0mlimit2\u001b[0m \u001b[0;34m=\u001b[0m \u001b[0mlimits\u001b[0m\u001b[0;34m.\u001b[0m\u001b[0msplit\u001b[0m\u001b[0;34m(\u001b[0m\u001b[0;34m' '\u001b[0m\u001b[0;34m)\u001b[0m\u001b[0;34m[\u001b[0m\u001b[0;36m0\u001b[0m\u001b[0;34m]\u001b[0m\u001b[0;34m.\u001b[0m\u001b[0msplit\u001b[0m\u001b[0;34m(\u001b[0m\u001b[0;34m'-'\u001b[0m\u001b[0;34m)\u001b[0m\u001b[0;34m\u001b[0m\u001b[0;34m\u001b[0m\u001b[0m\n",
            "\u001b[0;31mAttributeError\u001b[0m: 'NoneType' object has no attribute 'text'"
          ]
        }
      ]
    },
    {
      "metadata": {
        "id": "QCDqKPT6ekaf",
        "colab_type": "code",
        "colab": {}
      },
      "cell_type": "code",
      "source": [
        "#dont run any of these codes these are just for testing purposes\n",
        "import numpy as np\n",
        "s = np.array([6,0])\n",
        "np.save('start.npy', s)"
      ],
      "execution_count": 0,
      "outputs": []
    },
    {
      "metadata": {
        "id": "UXxdS6-M4Tkx",
        "colab_type": "code",
        "colab": {}
      },
      "cell_type": "code",
      "source": [
        "import numpy as np\n",
        "count = np.array([0])\n",
        "np.save('count.npy', count)"
      ],
      "execution_count": 0,
      "outputs": []
    },
    {
      "metadata": {
        "id": "2jFeEB5V81Bq",
        "colab_type": "code",
        "colab": {
          "base_uri": "https://localhost:8080/",
          "height": 35
        },
        "outputId": "aa74859e-c61a-4627-952a-4bd62b5940b1"
      },
      "cell_type": "code",
      "source": [
        "import numpy as np\n",
        "np.load('start.npy')"
      ],
      "execution_count": 8,
      "outputs": [
        {
          "output_type": "execute_result",
          "data": {
            "text/plain": [
              "array([6, 0])"
            ]
          },
          "metadata": {
            "tags": []
          },
          "execution_count": 8
        }
      ]
    },
    {
      "metadata": {
        "id": "_F4icseX_PBA",
        "colab_type": "code",
        "colab": {
          "base_uri": "https://localhost:8080/",
          "height": 55
        },
        "outputId": "e859617b-0310-42fd-baa5-c939ea58f084"
      },
      "cell_type": "code",
      "source": [
        "#open('url.txt', 'w').write(\"https://www.amazon.in/gp/search/ref=sr_pg_6?rh=n%3A1571271031%2Cn%3A%211571272031%2Cn%3A1968024031%2Cn%3A1968093031&page=6&ie=UTF8&qid=1552767690\")\n",
        "open('url.txt').read()"
      ],
      "execution_count": 7,
      "outputs": [
        {
          "output_type": "execute_result",
          "data": {
            "text/plain": [
              "'https://www.amazon.in/gp/search/ref=sr_pg_6?rh=n%3A1571271031%2Cn%3A%211571272031%2Cn%3A1968024031%2Cn%3A1968093031&page=6&ie=UTF8&qid=1552767690'"
            ]
          },
          "metadata": {
            "tags": []
          },
          "execution_count": 7
        }
      ]
    }
  ]
}