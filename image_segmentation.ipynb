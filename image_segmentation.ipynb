{
  "nbformat": 4,
  "nbformat_minor": 0,
  "metadata": {
    "colab": {
      "name": "Seer-rishi.ipynb",
      "version": "0.3.2",
      "provenance": [],
      "collapsed_sections": []
    },
    "kernelspec": {
      "name": "python3",
      "display_name": "Python 3"
    },
    "accelerator": "GPU"
  },
  "cells": [
    {
      "metadata": {
        "id": "NelO9qint9_d",
        "colab_type": "code",
        "outputId": "e4f8dbe5-dbab-44b9-dc79-c4714aeab44d",
        "colab": {
          "base_uri": "https://localhost:8080/",
          "height": 35
        }
      },
      "cell_type": "code",
      "source": [
        "from google.colab import drive\n",
        "drive.mount('/content/drive')"
      ],
      "execution_count": 4,
      "outputs": [
        {
          "output_type": "stream",
          "text": [
            "Drive already mounted at /content/drive; to attempt to forcibly remount, call drive.mount(\"/content/drive\", force_remount=True).\n"
          ],
          "name": "stdout"
        }
      ]
    },
    {
      "metadata": {
        "id": "efo90E1E4K1s",
        "colab_type": "code",
        "outputId": "ddb43da2-8616-49ea-8e83-e2a2e9778964",
        "colab": {
          "base_uri": "https://localhost:8080/",
          "height": 35
        }
      },
      "cell_type": "code",
      "source": [
        "%cd /content/drive/'My Drive'/mumbai_hackathon_seer"
      ],
      "execution_count": 10,
      "outputs": [
        {
          "output_type": "stream",
          "text": [
            "/content/drive/My Drive/mumbai_hackathon_seer\n"
          ],
          "name": "stdout"
        }
      ]
    },
    {
      "metadata": {
        "id": "PnPw3eUbqwJD",
        "colab_type": "code",
        "colab": {
          "base_uri": "https://localhost:8080/",
          "height": 53
        },
        "outputId": "a75365f3-3b55-4e74-9b33-d485f3f9a79f"
      },
      "cell_type": "code",
      "source": [
        "#%cd images_mens_shirts_segmented\n",
        "#!find . -type f | wc -l"
      ],
      "execution_count": 6,
      "outputs": [
        {
          "output_type": "stream",
          "text": [
            "/content/drive/My Drive/mumbai_hackathon_seer/images_mens_shirts_segmented\n",
            "215\n"
          ],
          "name": "stdout"
        }
      ]
    },
    {
      "metadata": {
        "id": "1m0ynynJ4hiN",
        "colab_type": "code",
        "colab": {}
      },
      "cell_type": "code",
      "source": [
        "#!git clone https://github.com/anish9/Fashion-AI-segmentation.git"
      ],
      "execution_count": 0,
      "outputs": []
    },
    {
      "metadata": {
        "id": "mlIAt-TM8WEr",
        "colab_type": "code",
        "outputId": "c10b816a-0cc1-4aa8-a59f-0c1b97a49ecc",
        "colab": {
          "base_uri": "https://localhost:8080/",
          "height": 53
        }
      },
      "cell_type": "code",
      "source": [
        "cd Fashion-AI-segmentationt"
      ],
      "execution_count": 8,
      "outputs": [
        {
          "output_type": "stream",
          "text": [
            "[Errno 2] No such file or directory: 'Fashion-AI-segmentationt'\n",
            "/content/drive/My Drive/mumbai_hackathon_seer/images_mens_shirts_segmented\n"
          ],
          "name": "stdout"
        }
      ]
    },
    {
      "metadata": {
        "id": "1bsn2HK17wHb",
        "colab_type": "code",
        "outputId": "cdb639b4-0cb6-40b1-a7cb-485e8f171cad",
        "colab": {
          "base_uri": "https://localhost:8080/",
          "height": 35
        }
      },
      "cell_type": "code",
      "source": [
        "!python fashion.py '/content/drive/My Drive/mumbai_hackathon_seer/images_mens_shirts' '/content/drive/My Drive/mumbai_hackathon_seer/images_mens_shirts_segmented'"
      ],
      "execution_count": 9,
      "outputs": [
        {
          "output_type": "stream",
          "text": [
            "python3: can't open file 'fashion.py': [Errno 2] No such file or directory\n"
          ],
          "name": "stdout"
        }
      ]
    },
    {
      "metadata": {
        "id": "KMF0V897ErYL",
        "colab_type": "code",
        "colab": {}
      },
      "cell_type": "code",
      "source": [
        "def nn(img_file):\n",
        "    predict = predictor(img_file)\n",
        "    file = path_file(\"annotation.csv\")\n",
        "    reader = pd.read_csv(file)\n",
        "    print(predict)\n",
        "    print('Now reading image')\n",
        "\n",
        "    img = cv2.imread(img_file)\n",
        "    img = cv2.resize(img,(image_width,image_height))\n",
        "    #seg = image(image,reader.x1[predict],reader.y1[predict],reader.x2[predict],reader.y2[predict],reader.i[predict])\n",
        "    print('Img read and resized')\n",
        "\n",
        "    mask = np.zeros(img.shape[:2],np.uint8)   \n",
        "    \n",
        "    bgdModel = np.zeros((1,65),np.float64)\n",
        "    \n",
        "    fgdModel = np.zeros((1,65),np.float64)\n",
        "    \n",
        "\n",
        "    rect = (reader.x1[predict],reader.y1[predict],reader.x2[predict],reader.y2[predict])\n",
        "    print('Now will call grabcut')\n",
        "    cv2.grabCut(img,mask,rect,bgdModel,fgdModel,reader.i[predict],cv2.GC_INIT_WITH_RECT)\n",
        "    mask2 = np.where((mask==2)|(mask==0),0,1).astype('uint8')\n",
        "    \n",
        "    img_cut = img*mask2[:,:,np.newaxis]\n",
        "    print('writing to dir: '+str(directory+\"/\"+str(img_file)))\n",
        "    print(os.path.isdir(directory))\n",
        "    cv2.imwrite(directory+\"/\"+str(img_file),img_cut)\n"
      ],
      "execution_count": 0,
      "outputs": []
    }
  ]
}